{
 "cells": [
  {
   "cell_type": "markdown",
   "metadata": {
    "azdata_cell_guid": "151601c9-ca7a-412e-af80-c62a87e0837e"
   },
   "source": [
    "# Checkpoint Two: Exploratory Data Analysis\n",
    "\n",
    "Now that your chosen dataset is approved, it is time to start working on your analysis. Use this notebook to perform your EDA and make notes where directed to as you work.\n",
    "\n",
    "## Getting Started\n",
    "\n",
    "Since we have not provided your dataset for you, you will need to load the necessary files in this repository. Make sure to include a link back to the original dataset here as well.\n",
    "\n",
    "Weekly CDC Pneumonia Cases from Kaggle:\n",
    "\n",
    "My dataset: https://www.kaggle.com/datasets/broach/weekly-cdc-pneumonia-cases\n",
    "\n",
    "Your first task in EDA is to import necessary libraries and create a dataframe(s). Make note in the form of code comments of what your thought process is as you work on this setup task."
   ]
  },
  {
   "cell_type": "code",
   "execution_count": 5,
   "metadata": {
    "azdata_cell_guid": "7b503e37-6df5-4433-acfb-678b1346db14"
   },
   "outputs": [],
   "source": [
    "import pandas as pd\n",
    "import numpy as np\n",
    "import seaborn as sb\n",
    "import matplotlib.pyplot as plt\n",
    "from matplotlib import style\n",
    "\n",
    "df = pd.read_csv(r\"C:\\Users\\16183\\Desktop\\LaunchCode\\Pneumonia Data Set (CDC).csv\") \n"
   ]
  },
  {
   "cell_type": "markdown",
   "metadata": {
    "azdata_cell_guid": "129ce836-524b-4ea8-b394-a959f9308d6a"
   },
   "source": [
    "## Get to Know the Numbers\n",
    "\n",
    "Now that you have everything setup, put any code that you use to get to know the dataframe and its rows and columns better in the cell below. You can use whatever techniques you like, except for visualizations. You will put those in a separate section.\n",
    "\n",
    "When working on your code, make sure to leave comments so that your mentors can understand your thought process."
   ]
  },
  {
   "cell_type": "code",
   "execution_count": 6,
   "metadata": {
    "azdata_cell_guid": "0ca2d318-f6e8-43ef-a33e-5304d24d928d",
    "tags": []
   },
   "outputs": [
    {
     "data": {
      "text/html": [
       "<div>\n",
       "<style scoped>\n",
       "    .dataframe tbody tr th:only-of-type {\n",
       "        vertical-align: middle;\n",
       "    }\n",
       "\n",
       "    .dataframe tbody tr th {\n",
       "        vertical-align: top;\n",
       "    }\n",
       "\n",
       "    .dataframe thead th {\n",
       "        text-align: right;\n",
       "    }\n",
       "</style>\n",
       "<table border=\"1\" class=\"dataframe\">\n",
       "  <thead>\n",
       "    <tr style=\"text-align: right;\">\n",
       "      <th></th>\n",
       "      <th>Region</th>\n",
       "      <th>Count</th>\n",
       "      <th>ProbableCount</th>\n",
       "      <th>Week</th>\n",
       "      <th>Year</th>\n",
       "      <th>DateStr</th>\n",
       "    </tr>\n",
       "  </thead>\n",
       "  <tbody>\n",
       "    <tr>\n",
       "      <th>0</th>\n",
       "      <td>U.S. Residents excluding U.S. Territories</td>\n",
       "      <td>40.0</td>\n",
       "      <td>1.0</td>\n",
       "      <td>1</td>\n",
       "      <td>2021</td>\n",
       "      <td>09-Jan-2021</td>\n",
       "    </tr>\n",
       "    <tr>\n",
       "      <th>1</th>\n",
       "      <td>New England</td>\n",
       "      <td>2.0</td>\n",
       "      <td>0.0</td>\n",
       "      <td>1</td>\n",
       "      <td>2021</td>\n",
       "      <td>09-Jan-2021</td>\n",
       "    </tr>\n",
       "    <tr>\n",
       "      <th>2</th>\n",
       "      <td>Connecticut</td>\n",
       "      <td>0.0</td>\n",
       "      <td>0.0</td>\n",
       "      <td>1</td>\n",
       "      <td>2021</td>\n",
       "      <td>09-Jan-2021</td>\n",
       "    </tr>\n",
       "    <tr>\n",
       "      <th>3</th>\n",
       "      <td>Maine</td>\n",
       "      <td>0.0</td>\n",
       "      <td>0.0</td>\n",
       "      <td>1</td>\n",
       "      <td>2021</td>\n",
       "      <td>09-Jan-2021</td>\n",
       "    </tr>\n",
       "    <tr>\n",
       "      <th>4</th>\n",
       "      <td>Massachusetts</td>\n",
       "      <td>0.0</td>\n",
       "      <td>0.0</td>\n",
       "      <td>1</td>\n",
       "      <td>2021</td>\n",
       "      <td>09-Jan-2021</td>\n",
       "    </tr>\n",
       "    <tr>\n",
       "      <th>5</th>\n",
       "      <td>New Hampshire</td>\n",
       "      <td>1.0</td>\n",
       "      <td>0.0</td>\n",
       "      <td>1</td>\n",
       "      <td>2021</td>\n",
       "      <td>09-Jan-2021</td>\n",
       "    </tr>\n",
       "    <tr>\n",
       "      <th>6</th>\n",
       "      <td>Rhode Island</td>\n",
       "      <td>0.0</td>\n",
       "      <td>0.0</td>\n",
       "      <td>1</td>\n",
       "      <td>2021</td>\n",
       "      <td>09-Jan-2021</td>\n",
       "    </tr>\n",
       "    <tr>\n",
       "      <th>7</th>\n",
       "      <td>Vermont</td>\n",
       "      <td>1.0</td>\n",
       "      <td>0.0</td>\n",
       "      <td>1</td>\n",
       "      <td>2021</td>\n",
       "      <td>09-Jan-2021</td>\n",
       "    </tr>\n",
       "    <tr>\n",
       "      <th>8</th>\n",
       "      <td>Middle Atlantic</td>\n",
       "      <td>6.0</td>\n",
       "      <td>0.0</td>\n",
       "      <td>1</td>\n",
       "      <td>2021</td>\n",
       "      <td>09-Jan-2021</td>\n",
       "    </tr>\n",
       "    <tr>\n",
       "      <th>9</th>\n",
       "      <td>New Jersey</td>\n",
       "      <td>0.0</td>\n",
       "      <td>0.0</td>\n",
       "      <td>1</td>\n",
       "      <td>2021</td>\n",
       "      <td>09-Jan-2021</td>\n",
       "    </tr>\n",
       "  </tbody>\n",
       "</table>\n",
       "</div>"
      ],
      "text/plain": [
       "                                      Region  Count  ProbableCount  Week  \\\n",
       "0  U.S. Residents excluding U.S. Territories   40.0            1.0     1   \n",
       "1                                New England    2.0            0.0     1   \n",
       "2                                Connecticut    0.0            0.0     1   \n",
       "3                                      Maine    0.0            0.0     1   \n",
       "4                              Massachusetts    0.0            0.0     1   \n",
       "5                              New Hampshire    1.0            0.0     1   \n",
       "6                               Rhode Island    0.0            0.0     1   \n",
       "7                                    Vermont    1.0            0.0     1   \n",
       "8                            Middle Atlantic    6.0            0.0     1   \n",
       "9                                 New Jersey    0.0            0.0     1   \n",
       "\n",
       "   Year      DateStr  \n",
       "0  2021  09-Jan-2021  \n",
       "1  2021  09-Jan-2021  \n",
       "2  2021  09-Jan-2021  \n",
       "3  2021  09-Jan-2021  \n",
       "4  2021  09-Jan-2021  \n",
       "5  2021  09-Jan-2021  \n",
       "6  2021  09-Jan-2021  \n",
       "7  2021  09-Jan-2021  \n",
       "8  2021  09-Jan-2021  \n",
       "9  2021  09-Jan-2021  "
      ]
     },
     "execution_count": 6,
     "metadata": {},
     "output_type": "execute_result"
    }
   ],
   "source": [
    "df.head(10)\n",
    "#describing the top of the data set"
   ]
  },
  {
   "cell_type": "code",
   "execution_count": 12,
   "metadata": {},
   "outputs": [
    {
     "data": {
      "text/html": [
       "<div>\n",
       "<style scoped>\n",
       "    .dataframe tbody tr th:only-of-type {\n",
       "        vertical-align: middle;\n",
       "    }\n",
       "\n",
       "    .dataframe tbody tr th {\n",
       "        vertical-align: top;\n",
       "    }\n",
       "\n",
       "    .dataframe thead th {\n",
       "        text-align: right;\n",
       "    }\n",
       "</style>\n",
       "<table border=\"1\" class=\"dataframe\">\n",
       "  <thead>\n",
       "    <tr style=\"text-align: right;\">\n",
       "      <th></th>\n",
       "      <th>Region</th>\n",
       "      <th>Count</th>\n",
       "      <th>ProbableCount</th>\n",
       "      <th>Week</th>\n",
       "      <th>Year</th>\n",
       "      <th>DateStr</th>\n",
       "    </tr>\n",
       "  </thead>\n",
       "  <tbody>\n",
       "    <tr>\n",
       "      <th>39252</th>\n",
       "      <td>Alaska</td>\n",
       "      <td>0.0</td>\n",
       "      <td>NaN</td>\n",
       "      <td>52</td>\n",
       "      <td>2010</td>\n",
       "      <td>01-Jan-2011</td>\n",
       "    </tr>\n",
       "    <tr>\n",
       "      <th>39253</th>\n",
       "      <td>Calif.</td>\n",
       "      <td>11.0</td>\n",
       "      <td>NaN</td>\n",
       "      <td>52</td>\n",
       "      <td>2010</td>\n",
       "      <td>01-Jan-2011</td>\n",
       "    </tr>\n",
       "    <tr>\n",
       "      <th>39254</th>\n",
       "      <td>Hawaii</td>\n",
       "      <td>0.0</td>\n",
       "      <td>NaN</td>\n",
       "      <td>52</td>\n",
       "      <td>2010</td>\n",
       "      <td>01-Jan-2011</td>\n",
       "    </tr>\n",
       "    <tr>\n",
       "      <th>39255</th>\n",
       "      <td>Oreg.</td>\n",
       "      <td>0.0</td>\n",
       "      <td>NaN</td>\n",
       "      <td>52</td>\n",
       "      <td>2010</td>\n",
       "      <td>01-Jan-2011</td>\n",
       "    </tr>\n",
       "    <tr>\n",
       "      <th>39256</th>\n",
       "      <td>Wash.</td>\n",
       "      <td>0.0</td>\n",
       "      <td>NaN</td>\n",
       "      <td>52</td>\n",
       "      <td>2010</td>\n",
       "      <td>01-Jan-2011</td>\n",
       "    </tr>\n",
       "    <tr>\n",
       "      <th>39257</th>\n",
       "      <td>Amer. Samoa</td>\n",
       "      <td>0.0</td>\n",
       "      <td>NaN</td>\n",
       "      <td>52</td>\n",
       "      <td>2010</td>\n",
       "      <td>01-Jan-2011</td>\n",
       "    </tr>\n",
       "    <tr>\n",
       "      <th>39258</th>\n",
       "      <td>C.N.M.I.</td>\n",
       "      <td>0.0</td>\n",
       "      <td>NaN</td>\n",
       "      <td>52</td>\n",
       "      <td>2010</td>\n",
       "      <td>01-Jan-2011</td>\n",
       "    </tr>\n",
       "    <tr>\n",
       "      <th>39259</th>\n",
       "      <td>Guam</td>\n",
       "      <td>0.0</td>\n",
       "      <td>NaN</td>\n",
       "      <td>52</td>\n",
       "      <td>2010</td>\n",
       "      <td>01-Jan-2011</td>\n",
       "    </tr>\n",
       "    <tr>\n",
       "      <th>39260</th>\n",
       "      <td>P.R.</td>\n",
       "      <td>0.0</td>\n",
       "      <td>NaN</td>\n",
       "      <td>52</td>\n",
       "      <td>2010</td>\n",
       "      <td>01-Jan-2011</td>\n",
       "    </tr>\n",
       "    <tr>\n",
       "      <th>39261</th>\n",
       "      <td>V.I.</td>\n",
       "      <td>0.0</td>\n",
       "      <td>NaN</td>\n",
       "      <td>52</td>\n",
       "      <td>2010</td>\n",
       "      <td>01-Jan-2011</td>\n",
       "    </tr>\n",
       "  </tbody>\n",
       "</table>\n",
       "</div>"
      ],
      "text/plain": [
       "            Region  Count  ProbableCount  Week  Year      DateStr\n",
       "39252       Alaska    0.0            NaN    52  2010  01-Jan-2011\n",
       "39253       Calif.   11.0            NaN    52  2010  01-Jan-2011\n",
       "39254       Hawaii    0.0            NaN    52  2010  01-Jan-2011\n",
       "39255        Oreg.    0.0            NaN    52  2010  01-Jan-2011\n",
       "39256        Wash.    0.0            NaN    52  2010  01-Jan-2011\n",
       "39257  Amer. Samoa    0.0            NaN    52  2010  01-Jan-2011\n",
       "39258     C.N.M.I.    0.0            NaN    52  2010  01-Jan-2011\n",
       "39259         Guam    0.0            NaN    52  2010  01-Jan-2011\n",
       "39260         P.R.    0.0            NaN    52  2010  01-Jan-2011\n",
       "39261         V.I.    0.0            NaN    52  2010  01-Jan-2011"
      ]
     },
     "execution_count": 12,
     "metadata": {},
     "output_type": "execute_result"
    }
   ],
   "source": [
    "df.tail(10)"
   ]
  },
  {
   "cell_type": "code",
   "execution_count": 8,
   "metadata": {},
   "outputs": [
    {
     "data": {
      "text/plain": [
       "array([ 1,  2,  3,  4,  5,  6,  7,  8,  9, 10, 11, 12, 13, 14, 15, 16, 17,\n",
       "       18, 19, 20, 21, 22, 23, 24, 25, 26, 27, 28, 29, 30, 31, 32, 33, 34,\n",
       "       35, 36, 37, 38, 39, 40, 41, 42, 43, 44, 45, 46, 47, 48, 49, 50, 51,\n",
       "       52], dtype=int64)"
      ]
     },
     "execution_count": 8,
     "metadata": {},
     "output_type": "execute_result"
    }
   ],
   "source": [
    "df['Week'].unique()"
   ]
  },
  {
   "cell_type": "code",
   "execution_count": 15,
   "metadata": {},
   "outputs": [
    {
     "data": {
      "text/plain": [
       "Index(['Region', 'Count', 'ProbableCount', 'Week', 'Year', 'DateStr'], dtype='object')"
      ]
     },
     "execution_count": 15,
     "metadata": {},
     "output_type": "execute_result"
    }
   ],
   "source": [
    "df.columns"
   ]
  },
  {
   "cell_type": "code",
   "execution_count": 16,
   "metadata": {},
   "outputs": [
    {
     "data": {
      "text/plain": [
       "0.0      16378\n",
       "1.0       3006\n",
       "2.0       2074\n",
       "3.0       1485\n",
       "4.0       1155\n",
       "         ...  \n",
       "136.0        1\n",
       "139.0        1\n",
       "260.0        1\n",
       "240.0        1\n",
       "310.0        1\n",
       "Name: Count, Length: 268, dtype: int64"
      ]
     },
     "execution_count": 16,
     "metadata": {},
     "output_type": "execute_result"
    }
   ],
   "source": [
    "df['Count'].value_counts()"
   ]
  },
  {
   "cell_type": "code",
   "execution_count": 9,
   "metadata": {},
   "outputs": [
    {
     "data": {
      "text/plain": [
       "<bound method NDFrame.describe of                                           Region  Count  ProbableCount  Week  \\\n",
       "0      U.S. Residents excluding U.S. Territories   40.0            1.0     1   \n",
       "1                                    New England    2.0            0.0     1   \n",
       "2                                    Connecticut    0.0            0.0     1   \n",
       "3                                          Maine    0.0            0.0     1   \n",
       "4                                  Massachusetts    0.0            0.0     1   \n",
       "...                                          ...    ...            ...   ...   \n",
       "39257                                Amer. Samoa    0.0            NaN    52   \n",
       "39258                                   C.N.M.I.    0.0            NaN    52   \n",
       "39259                                       Guam    0.0            NaN    52   \n",
       "39260                                       P.R.    0.0            NaN    52   \n",
       "39261                                       V.I.    0.0            NaN    52   \n",
       "\n",
       "       Year      DateStr  \n",
       "0      2021  09-Jan-2021  \n",
       "1      2021  09-Jan-2021  \n",
       "2      2021  09-Jan-2021  \n",
       "3      2021  09-Jan-2021  \n",
       "4      2021  09-Jan-2021  \n",
       "...     ...          ...  \n",
       "39257  2010  01-Jan-2011  \n",
       "39258  2010  01-Jan-2011  \n",
       "39259  2010  01-Jan-2011  \n",
       "39260  2010  01-Jan-2011  \n",
       "39261  2010  01-Jan-2011  \n",
       "\n",
       "[39262 rows x 6 columns]>"
      ]
     },
     "execution_count": 9,
     "metadata": {},
     "output_type": "execute_result"
    }
   ],
   "source": [
    "df.describe"
   ]
  },
  {
   "cell_type": "code",
   "execution_count": 17,
   "metadata": {},
   "outputs": [
    {
     "data": {
      "text/plain": [
       "Region            object\n",
       "Count            float64\n",
       "ProbableCount    float64\n",
       "Week               int64\n",
       "Year               int64\n",
       "DateStr           object\n",
       "dtype: object"
      ]
     },
     "execution_count": 17,
     "metadata": {},
     "output_type": "execute_result"
    }
   ],
   "source": [
    "df.dtypes"
   ]
  },
  {
   "cell_type": "code",
   "execution_count": 19,
   "metadata": {},
   "outputs": [
    {
     "data": {
      "text/html": [
       "<div>\n",
       "<style scoped>\n",
       "    .dataframe tbody tr th:only-of-type {\n",
       "        vertical-align: middle;\n",
       "    }\n",
       "\n",
       "    .dataframe tbody tr th {\n",
       "        vertical-align: top;\n",
       "    }\n",
       "\n",
       "    .dataframe thead th {\n",
       "        text-align: right;\n",
       "    }\n",
       "</style>\n",
       "<table border=\"1\" class=\"dataframe\">\n",
       "  <thead>\n",
       "    <tr style=\"text-align: right;\">\n",
       "      <th></th>\n",
       "      <th>Region</th>\n",
       "      <th>Count</th>\n",
       "      <th>ProbableCount</th>\n",
       "      <th>Week</th>\n",
       "      <th>Year</th>\n",
       "      <th>DateStr</th>\n",
       "    </tr>\n",
       "  </thead>\n",
       "  <tbody>\n",
       "    <tr>\n",
       "      <th>0</th>\n",
       "      <td>False</td>\n",
       "      <td>False</td>\n",
       "      <td>False</td>\n",
       "      <td>False</td>\n",
       "      <td>False</td>\n",
       "      <td>False</td>\n",
       "    </tr>\n",
       "    <tr>\n",
       "      <th>1</th>\n",
       "      <td>False</td>\n",
       "      <td>False</td>\n",
       "      <td>False</td>\n",
       "      <td>False</td>\n",
       "      <td>False</td>\n",
       "      <td>False</td>\n",
       "    </tr>\n",
       "    <tr>\n",
       "      <th>2</th>\n",
       "      <td>False</td>\n",
       "      <td>False</td>\n",
       "      <td>False</td>\n",
       "      <td>False</td>\n",
       "      <td>False</td>\n",
       "      <td>False</td>\n",
       "    </tr>\n",
       "    <tr>\n",
       "      <th>3</th>\n",
       "      <td>False</td>\n",
       "      <td>False</td>\n",
       "      <td>False</td>\n",
       "      <td>False</td>\n",
       "      <td>False</td>\n",
       "      <td>False</td>\n",
       "    </tr>\n",
       "    <tr>\n",
       "      <th>4</th>\n",
       "      <td>False</td>\n",
       "      <td>False</td>\n",
       "      <td>False</td>\n",
       "      <td>False</td>\n",
       "      <td>False</td>\n",
       "      <td>False</td>\n",
       "    </tr>\n",
       "    <tr>\n",
       "      <th>...</th>\n",
       "      <td>...</td>\n",
       "      <td>...</td>\n",
       "      <td>...</td>\n",
       "      <td>...</td>\n",
       "      <td>...</td>\n",
       "      <td>...</td>\n",
       "    </tr>\n",
       "    <tr>\n",
       "      <th>39257</th>\n",
       "      <td>False</td>\n",
       "      <td>False</td>\n",
       "      <td>True</td>\n",
       "      <td>False</td>\n",
       "      <td>False</td>\n",
       "      <td>False</td>\n",
       "    </tr>\n",
       "    <tr>\n",
       "      <th>39258</th>\n",
       "      <td>False</td>\n",
       "      <td>False</td>\n",
       "      <td>True</td>\n",
       "      <td>False</td>\n",
       "      <td>False</td>\n",
       "      <td>False</td>\n",
       "    </tr>\n",
       "    <tr>\n",
       "      <th>39259</th>\n",
       "      <td>False</td>\n",
       "      <td>False</td>\n",
       "      <td>True</td>\n",
       "      <td>False</td>\n",
       "      <td>False</td>\n",
       "      <td>False</td>\n",
       "    </tr>\n",
       "    <tr>\n",
       "      <th>39260</th>\n",
       "      <td>False</td>\n",
       "      <td>False</td>\n",
       "      <td>True</td>\n",
       "      <td>False</td>\n",
       "      <td>False</td>\n",
       "      <td>False</td>\n",
       "    </tr>\n",
       "    <tr>\n",
       "      <th>39261</th>\n",
       "      <td>False</td>\n",
       "      <td>False</td>\n",
       "      <td>True</td>\n",
       "      <td>False</td>\n",
       "      <td>False</td>\n",
       "      <td>False</td>\n",
       "    </tr>\n",
       "  </tbody>\n",
       "</table>\n",
       "<p>39262 rows × 6 columns</p>\n",
       "</div>"
      ],
      "text/plain": [
       "       Region  Count  ProbableCount   Week   Year  DateStr\n",
       "0       False  False          False  False  False    False\n",
       "1       False  False          False  False  False    False\n",
       "2       False  False          False  False  False    False\n",
       "3       False  False          False  False  False    False\n",
       "4       False  False          False  False  False    False\n",
       "...       ...    ...            ...    ...    ...      ...\n",
       "39257   False  False           True  False  False    False\n",
       "39258   False  False           True  False  False    False\n",
       "39259   False  False           True  False  False    False\n",
       "39260   False  False           True  False  False    False\n",
       "39261   False  False           True  False  False    False\n",
       "\n",
       "[39262 rows x 6 columns]"
      ]
     },
     "execution_count": 19,
     "metadata": {},
     "output_type": "execute_result"
    }
   ],
   "source": [
    "df.isna()"
   ]
  },
  {
   "cell_type": "code",
   "execution_count": 28,
   "metadata": {},
   "outputs": [
    {
     "data": {
      "text/plain": [
       "array(['U.S. Residents excluding U.S. Territories', 'New England',\n",
       "       'Connecticut', 'Maine', 'Massachusetts', 'New Hampshire',\n",
       "       'Rhode Island', 'Vermont', 'Middle Atlantic', 'New Jersey',\n",
       "       'New York (excluding New York City)', 'New York City',\n",
       "       'Pennsylvania', 'East North Central', 'Illinois', 'Indiana',\n",
       "       'Michigan', 'Ohio', 'Wisconsin', 'West North Central', 'Iowa',\n",
       "       'Kansas', 'Minnesota', 'Missouri', 'Nebraska', 'North Dakota',\n",
       "       'South Dakota', 'South Atlantic', 'Delaware',\n",
       "       'District of Columbia', 'Florida', 'Georgia', 'Maryland',\n",
       "       'North Carolina', 'South Carolina', 'Virginia', 'West Virginia',\n",
       "       'East South Central', 'Alabama', 'Kentucky', 'Mississippi',\n",
       "       'Tennessee', 'West South Central', 'Arkansas', 'Louisiana',\n",
       "       'Oklahoma', 'Texas', 'Mountain', 'Arizona', 'Colorado', 'Idaho',\n",
       "       'Montana', 'Nevada', 'New Mexico', 'Utah', 'Wyoming', 'Pacific',\n",
       "       'Alaska', 'California', 'Hawaii', 'Oregon', 'Washington',\n",
       "       'American Samoa', 'Commonwealth of Northern Mariana Islands',\n",
       "       'Guam', 'Puerto Rico', 'U.S. Virgin Islands', 'United States',\n",
       "       'UNITED STATES', 'NEW ENGLAND', 'Conn.', 'Mass.', 'N.H.', 'R.I.',\n",
       "       'Vt.', 'MID. ATLANTIC', 'N.J.', 'N.Y. (Upstate)', 'N.Y. City',\n",
       "       'Pa.', 'E.N. CENTRAL', 'Ill.', 'Ind.', 'Mich.', 'Wis.',\n",
       "       'W.N. CENTRAL', 'Kans.', 'Minn.', 'Mo.', 'Nebr.', 'N. Dak.',\n",
       "       'S. Dak.', 'S. ATLANTIC', 'Del.', 'D.C.', 'Fla.', 'Ga.', 'Md.',\n",
       "       'N.C.', 'S.C.', 'Va.', 'W. Va.', 'E.S. CENTRAL', 'Ala.', 'Ky.',\n",
       "       'Miss.', 'Tenn.', 'W.S. CENTRAL', 'Ark.', 'La.', 'Okla.', 'Tex.',\n",
       "       'MOUNTAIN', 'Ariz.', 'Colo.', 'Mont.', 'Nev.', 'N. Mex.', 'Wyo.',\n",
       "       'PACIFIC', 'Calif.', 'Oreg.', 'Wash.', 'Amer. Samoa', 'C.N.M.I.',\n",
       "       'P.R.', 'V.I.'], dtype=object)"
      ]
     },
     "execution_count": 28,
     "metadata": {},
     "output_type": "execute_result"
    }
   ],
   "source": [
    "df['Region'].unique()"
   ]
  },
  {
   "cell_type": "markdown",
   "metadata": {
    "azdata_cell_guid": "d45060f3-97bc-484a-9ef4-66145bbe9427"
   },
   "source": [
    "## Visualize\n",
    "\n",
    "Create any visualizations for your EDA here. Make note in the form of code comments of what your thought process is for your visualizations."
   ]
  },
  {
   "cell_type": "code",
   "execution_count": 36,
   "metadata": {},
   "outputs": [
    {
     "data": {
      "image/png": "[encoded data removed]",
      "text/plain": [
       "<Figure size 640x480 with 1 Axes>"
      ]
     },
     "metadata": {},
     "output_type": "display_data"
    }
   ],
   "source": [
    "plt.bar(df['Region'], df['Count'])\n",
    "\n",
    "plt.title(\"Rates of Pneumonia by Region (State and Territory)\")\n",
    "\n",
    "# Setting the X and Y labels\n",
    "plt.xlabel('Region')\n",
    "plt.ylabel('Rates of Pneumonia')\n",
    "plt.show()"
   ]
  },
  {
   "cell_type": "code",
   "execution_count": 19,
   "metadata": {
    "azdata_cell_guid": "f4565b03-759a-47a8-b58f-01b32a0b4b67"
   },
   "outputs": [],
   "source": [
    "#this above chart returned so much data. I decided to do a little bit of cleaning since I am focusing only on Missouri to isolate the bottom info to MO only"
   ]
  },
  {
   "cell_type": "code",
   "execution_count": 39,
   "metadata": {
    "azdata_cell_guid": "cd64bab1-db4c-4295-820d-c6464b653a3e"
   },
   "outputs": [
    {
     "data": {
      "image/png": "[encoded data removed]",
      "text/plain": [
       "<Figure size 640x480 with 1 Axes>"
      ]
     },
     "metadata": {},
     "output_type": "display_data"
    }
   ],
   "source": [
    "#checked the Region data from above and found that I needed to keep both 'Missouri' and 'Mo.'\n",
    "#drop all rows except where Region is equal to Missouri and Mo.\n",
    "df_MOupdated = df.query(\"Region == 'Missouri' | Region == 'Mo.'\")\n",
    "plt.bar(df_MOupdated['Region'], df_MOupdated['Count'])\n",
    "\n",
    "plt.title(\"Rates of Pneumonia in Missouri\")\n",
    "\n",
    "# Setting the X and Y labels\n",
    "plt.xlabel('Region')\n",
    "plt.ylabel('Rates of Pneumonia')\n",
    "plt.show()"
   ]
  },
  {
   "cell_type": "code",
   "execution_count": 40,
   "metadata": {},
   "outputs": [
    {
     "data": {
      "image/png": "[encoded data removed]",
      "text/plain": [
       "<Figure size 640x480 with 1 Axes>"
      ]
     },
     "metadata": {},
     "output_type": "display_data"
    }
   ],
   "source": [
    "plt.bar(df_MOupdated['Year'], df_MOupdated['Count'])\n",
    "\n",
    "plt.title(\"Rates of Pneumonia in Missouri\")\n",
    "\n",
    "# Setting the X and Y labels\n",
    "plt.xlabel('Year')\n",
    "plt.ylabel('Rates of Pneumonia by Year in Missouri')\n",
    "plt.show()"
   ]
  },
  {
   "cell_type": "markdown",
   "metadata": {
    "azdata_cell_guid": "d4931c0c-2c09-4ee1-95d4-73dd08c2f0a6"
   },
   "source": [
    "## Summarize Your Results\n",
    "\n",
    "With your EDA complete, answer the following questions.\n",
    "\n",
    "1. Was there anything surprising about your dataset? \n",
    "I was surprised by how much data was included in my dataset. I think I will have to clean it up quite a bit more during the cleaning assignment.\n",
    "\n",
    "2. Do you have any concerns about your dataset? \n",
    "I am a little concerned that there are two entries for Missouri. I will have to look further into these entries to ensure both are accurate for Missouri.\n",
    "\n",
    "3. Is there anything you want to make note of for the next phase of your analysis, which is cleaning data? \n",
    "I will need to create some visualizations by week vs. year after the cleaning phase.\n",
    "\n",
    "Here was my previous goal for the Graded Assignment Checkpoint 1: Goal is to determine over the most recent 3 years of the data set (2017-2020), which weeks on average of the year are the worst for confirmed pneumonia cases to the CDC in Missouri. The potential business question could impact hospital policy guidelines on the best weeks of the year to limit patient visitors to hopefully decrease risk of community to hospital patient based spread of pneumonia. \n",
    "\n",
    "I may need to revise this goal post performing exploratory data and beginning some data cleaning/visualizations to ensure I can extract the right information."
   ]
  }
 ],
 "metadata": {
  "kernelspec": {
   "display_name": "Python 3 (ipykernel)",
   "language": "python",
   "name": "python3"
  },
  "language_info": {
   "codemirror_mode": {
    "name": "ipython",
    "version": 3
   },
   "file_extension": ".py",
   "mimetype": "text/x-python",
   "name": "python",
   "nbconvert_exporter": "python",
   "pygments_lexer": "ipython3",
   "version": "3.10.9"
  }
 },
 "nbformat": 4,
 "nbformat_minor": 2
}
